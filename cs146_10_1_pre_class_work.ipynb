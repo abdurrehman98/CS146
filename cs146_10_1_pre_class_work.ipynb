{
  "nbformat": 4,
  "nbformat_minor": 0,
  "metadata": {
    "kernelspec": {
      "display_name": "Python 3",
      "language": "python",
      "name": "python3"
    },
    "language_info": {
      "codemirror_mode": {
        "name": "ipython",
        "version": 3
      },
      "file_extension": ".py",
      "mimetype": "text/x-python",
      "name": "python",
      "nbconvert_exporter": "python",
      "pygments_lexer": "ipython3",
      "version": "3.6.3"
    },
    "colab": {
      "name": "cs146-10.1-pre-class-work.ipynb",
      "provenance": [],
      "toc_visible": true
    }
  },
  "cells": [
    {
      "cell_type": "markdown",
      "metadata": {
        "id": "ODQGAPvXZK_p"
      },
      "source": [
        "# Pre-class work\n",
        "\n",
        "These notes work through the motivation behind testing a model we have seen before. Use the notes to refresh your memory of this particular model, make sure you understand the choice of test statistic used below, and write Python code to compute the p-value for the test statistic."
      ]
    },
    {
      "cell_type": "code",
      "metadata": {
        "collapsed": true,
        "id": "cg5MQ8kdZK_u"
      },
      "source": [
        "import numpy as np\n",
        "import matplotlib.pyplot as plt\n",
        "from scipy import stats"
      ],
      "execution_count": 1,
      "outputs": []
    },
    {
      "cell_type": "markdown",
      "metadata": {
        "id": "5cNL8tprZK_v"
      },
      "source": [
        "## Model and dataset\n",
        "\n",
        "In a previous class session, we modeled the dataset shown below using a **normal likelihood with unknown mean and variance** and a **conjugate normal-inverse-gamma prior** over the parameters."
      ]
    },
    {
      "cell_type": "code",
      "metadata": {
        "colab": {
          "base_uri": "https://localhost:8080/",
          "height": 390
        },
        "id": "8ZTudibyZK_v",
        "outputId": "1d0d4f30-197f-4075-93c0-34aeab4896da"
      },
      "source": [
        "# Load data: read the particle sizes (in nanometers) from a CSV file.\n",
        "# Log-transform the data so we can model it using a normal likelihood.\n",
        "data = np.log(np.loadtxt('hrtem.csv'))\n",
        "\n",
        "plt.figure(figsize=(12, 6))\n",
        "plt.hist(data, bins=20, density=True, alpha=0.5)\n",
        "plt.title('Histogram of dataset')\n",
        "plt.show()"
      ],
      "execution_count": 2,
      "outputs": [
        {
          "output_type": "display_data",
          "data": {
            "image/png": "[encoded data removed]",
            "text/plain": [
              "<Figure size 864x432 with 1 Axes>"
            ]
          },
          "metadata": {
            "tags": [],
            "needs_background": "light"
          }
        }
      ]
    },
    {
      "cell_type": "markdown",
      "metadata": {
        "id": "lhAy371SZK_w"
      },
      "source": [
        "The model was as follows.\n",
        "\n",
        "* Data: $\\{y_i\\}$\n",
        "* Parameters: mean $x$, variance $\\sigma^2$\n",
        "* Likelihood: $y_i \\sim \\text{Normal}(x, \\sigma^2)$\n",
        "* Prior: $(\\mu,\\sigma^2) \\sim \\text{Normal-Inverse-Gamma}(\\mu_0,\\nu_0,\\alpha_0,\\beta_0)$\n",
        "\n",
        "The prior hyperparameter values are given below."
      ]
    },
    {
      "cell_type": "code",
      "metadata": {
        "colab": {
          "base_uri": "https://localhost:8080/"
        },
        "id": "Z7hNnmECZK_x",
        "outputId": "0d0eb27d-39a6-48f7-df52-7a6d3c340fa8"
      },
      "source": [
        "mu_0 = 2.3\n",
        "nu_0 = 0.1\n",
        "alpha_0 = 2\n",
        "beta_0 = 5\n",
        "\n",
        "print('Posterior hyperparameters:')\n",
        "print('  μ₀ =', mu_0)\n",
        "print('  ν₀ =', nu_0)\n",
        "print('  α₀ =', alpha_0)\n",
        "print('  β₀ =', beta_0)"
      ],
      "execution_count": 3,
      "outputs": [
        {
          "output_type": "stream",
          "text": [
            "Posterior hyperparameters:\n",
            "  μ₀ = 2.3\n",
            "  ν₀ = 0.1\n",
            "  α₀ = 2\n",
            "  β₀ = 5\n"
          ],
          "name": "stdout"
        }
      ]
    },
    {
      "cell_type": "markdown",
      "metadata": {
        "id": "WbDMImitZK_x"
      },
      "source": [
        "Since the prior is conjugate to the likelihood, the posterior is also a Normal-Inverse-Gamma distribution. The posterior hyperparameters are calculated below."
      ]
    },
    {
      "cell_type": "code",
      "metadata": {
        "colab": {
          "base_uri": "https://localhost:8080/"
        },
        "id": "Y49XbBgqZK_x",
        "outputId": "10808adf-a6a3-4550-f848-5304abab63d9"
      },
      "source": [
        "# Sufficient statistics of the data\n",
        "s0 = len(data)\n",
        "s1 = sum(data)\n",
        "s2 = sum(data ** 2)\n",
        "\n",
        "# Posterior parameters\n",
        "mu_1 = (nu_0 * mu_0 + s1) / (nu_0 + s0)\n",
        "nu_1 = nu_0 + s0\n",
        "alpha_1 = alpha_0 + s0 / 2\n",
        "beta_1 = beta_0 + s2/2 - s1**2 / (2*s0) + s0*nu_0/(nu_1 + s0) * (s1/s0 - mu_0)**2/2\n",
        "\n",
        "print('Posterior hyperparameters:')\n",
        "print('  μ₁ =', mu_1)\n",
        "print('  ν₁ =', nu_1)\n",
        "print('  α₁ =', alpha_1)\n",
        "print('  β₁ =', beta_1)"
      ],
      "execution_count": 4,
      "outputs": [
        {
          "output_type": "stream",
          "text": [
            "Posterior hyperparameters:\n",
            "  μ₁ = 1.892401480510831\n",
            "  ν₁ = 500.1\n",
            "  α₁ = 252.0\n",
            "  β₁ = 124.45079772182757\n"
          ],
          "name": "stdout"
        }
      ]
    },
    {
      "cell_type": "markdown",
      "metadata": {
        "id": "QPv3k3QCZK_y"
      },
      "source": [
        "**One criticism against this model** is that it looks like the data distribution might be bimodal rather than unimodal, which would make a normal likelihood inappropriate. Let’s design a test statistic to check whether this bimodal appearance is really statistically significant or not."
      ]
    },
    {
      "cell_type": "markdown",
      "metadata": {
        "id": "5LuQ4RvfZK_y"
      },
      "source": [
        "## Test statistic\n",
        "\n",
        "Our test statistic is the proportion of data values that lie within one standard deviation of the mean of the dataset.\n",
        "\n",
        "So, given a dataset $\\{y_i\\}$, we compute the sample mean $\\bar{\\mu}$ and sample standard deviation $\\bar{\\sigma}$. We then count the proportion of data values that lie in the range $[\\bar{\\mu}-\\bar{\\sigma}, \\bar{\\mu}+\\bar{\\sigma}]$."
      ]
    },
    {
      "cell_type": "code",
      "metadata": {
        "collapsed": true,
        "id": "5EssK2ORZK_y"
      },
      "source": [
        "def test_statistic(data):\n",
        "    mu = np.mean(data)  # sample mean\n",
        "    sigma = np.std(data, ddof=1)  # sample standard deviation\n",
        "    return np.mean((data > mu - sigma) & (data < mu + sigma))"
      ],
      "execution_count": 5,
      "outputs": []
    },
    {
      "cell_type": "markdown",
      "metadata": {
        "id": "6yHSNHDKZK_z"
      },
      "source": [
        "For a normally distributed dataset, we expect approximately 68% of the data to lie within one standard deviation of the mean. For a bimodal dataset with equal probability mass in the two modes, we expect far fewer values to lie in this range since there is a gap between the modes.\n",
        "\n",
        "Here is an example to demonstrate why."
      ]
    },
    {
      "cell_type": "code",
      "metadata": {
        "colab": {
          "base_uri": "https://localhost:8080/",
          "height": 390
        },
        "id": "vwjtrz7lZK_z",
        "outputId": "aefe9e91-c80a-477f-b611-3d6b167db627"
      },
      "source": [
        "# Generate samples from a mixture of two normal distributions\n",
        "N = 1000\n",
        "x = np.concatenate((stats.norm.rvs(loc=-2, scale=1, size=1000), stats.norm.rvs(loc=2, scale=1, size=1000)))\n",
        "mu = np.mean(x)  # sample mean\n",
        "sigma = np.std(x, ddof=1)  # sample standard deviation\n",
        "\n",
        "plt.figure(figsize=(12, 6))\n",
        "plt.hist(x, bins=20, alpha=0.5, density=True)\n",
        "plt.axvline(mu - sigma, color='black')\n",
        "plt.axvline(mu + sigma, color='black')\n",
        "plt.title('Proportion of data in range [μ–σ, μ+σ]: %.3f' % test_statistic(x))\n",
        "plt.show()"
      ],
      "execution_count": 6,
      "outputs": [
        {
          "output_type": "display_data",
          "data": {
            "image/png": "[encoded data removed]",
            "text/plain": [
              "<Figure size 864x432 with 1 Axes>"
            ]
          },
          "metadata": {
            "tags": [],
            "needs_background": "light"
          }
        }
      ]
    },
    {
      "cell_type": "markdown",
      "metadata": {
        "id": "QSlYu4mQZK_z"
      },
      "source": [
        "The black lines show the mean plus and minus one standard deviation.\n",
        "\n",
        "In this case, 60.2% of the data lie between the black lines. \n",
        "\n",
        "If we apply this test statistic to the original dataset, we get the following."
      ]
    },
    {
      "cell_type": "code",
      "metadata": {
        "colab": {
          "base_uri": "https://localhost:8080/",
          "height": 390
        },
        "id": "aPsrABSSZK_z",
        "outputId": "774deca0-c6a9-416f-8f8d-39f15168dc79"
      },
      "source": [
        "mu = np.mean(data)\n",
        "sigma = np.std(data)\n",
        "\n",
        "plt.figure(figsize=(12, 6))\n",
        "plt.hist(data, bins=20, alpha=0.5, density=True)\n",
        "plt.axvline(mu - sigma, color='black')\n",
        "plt.axvline(mu + sigma, color='black')\n",
        "plt.title('Proportion of data in range [μ–σ, μ+σ]: %.3f' % test_statistic(data))\n",
        "plt.show()"
      ],
      "execution_count": 7,
      "outputs": [
        {
          "output_type": "display_data",
          "data": {
            "image/png": "[encoded data removed]",
            "text/plain": [
              "<Figure size 864x432 with 1 Axes>"
            ]
          },
          "metadata": {
            "tags": [],
            "needs_background": "light"
          }
        }
      ]
    },
    {
      "cell_type": "markdown",
      "metadata": {
        "id": "U_2TLRWZZK_0"
      },
      "source": [
        "So the test statistic evaluated on the real dataset is 0.640. But is this statistically significantly different from the expected value, which is 0.680 if we assume normally distributed data in our model?\n",
        "\n",
        "We can only answer this question by comparing the test statistic for the real dataset (0.640) to the test statistic on replicated data from the posterior predictive distribution of our model."
      ]
    },
    {
      "cell_type": "markdown",
      "metadata": {
        "id": "6_x-B6RjZK_0"
      },
      "source": [
        "## Task: Calculate the p-value\n",
        "\n",
        "* Generate samples from the posterior predictive distribution and compute the test statistic for each replicated dataset.\n",
        "* Plot a histogram of the test statistic on the replicated datasets.\n",
        "* Plot a vertical line on the histogram to show value of the test statistic on the real dataset (0.640).\n",
        "* Compute the p-value as the proportion of replicated test statistic values that are greater than the real test statistic value.\n",
        "\n",
        "### How to generate samples\n",
        "\n",
        "* Generate 1000 (or more) samples of $(x,\\sigma^2)$ from the posterior Normal-Inverse-Gamma distribution.\n",
        "* For each sample from the posterior, generate a replicated dataset $\\{y^{\\text{(rep)}}_i\\}$ with the same size (the same number of data points) as the real dataset. It is important the each replicated dataset has the same size as the real dataset, to make sure their statistical behavior is the same.\n",
        "* Compute the test statistic for each replicated dataset to get the samples from the replicated test statistic."
      ]
    },
    {
      "cell_type": "code",
      "metadata": {
        "collapsed": true,
        "id": "O6ti3ht3ZK_0"
      },
      "source": [
        "def norminvgamma_rvs(mu, nu, alpha, beta, size=1):\n",
        "    '''\n",
        "    Generate n samples from the normal-inverse-gamma distribution. This function\n",
        "    returns a (size x 2) matrix where each row contains a sample, (x, sigma2).\n",
        "    '''\n",
        "    sigma2 = stats.invgamma.rvs(a=alpha, scale=beta, size=size)  # Sample sigma^2 from the inverse-gamma\n",
        "    x = stats.norm.rvs(loc=mu, scale=np.sqrt(sigma2 / nu), size=size)  # Sample x from the normal\n",
        "    return np.vstack((x, sigma2)).transpose()"
      ],
      "execution_count": 8,
      "outputs": []
    },
    {
      "cell_type": "code",
      "metadata": {
        "collapsed": true,
        "colab": {
          "base_uri": "https://localhost:8080/",
          "height": 374
        },
        "id": "0I5BJ5KaZK_1",
        "outputId": "7d4910b3-194c-47d1-d219-f6288fbc6b78"
      },
      "source": [
        "test_stat = test_statistic(data)\r\n",
        "\r\n",
        "sampled_stat = []   # generate samples from the posterior predictive distribution \r\n",
        "\r\n",
        "for x_s, sigma_s in norminvgamma_rvs(mu_1, nu_1, alpha_1, beta_1, size=1000):  # generating 1000 samples using our function\r\n",
        "    data_2 = stats.norm.rvs(loc=x_s, scale=np.sqrt(sigma_s), size=len(data))   # get the test statistic for our data\r\n",
        "    sampled_stat.append(test_statistic(data_2))  # sample from the computed the test statistic for each replicated dataset\r\n",
        "    \r\n",
        "# Plot a histogram \r\n",
        "plt.figure(figsize=(12, 6))\r\n",
        "plt.hist(sampled_stat, bins=30, density=True)\r\n",
        "plt.axvline(test_stat, color = 'red')   # Plotting the test statistic line\r\n",
        "plt.show()"
      ],
      "execution_count": 25,
      "outputs": [
        {
          "output_type": "display_data",
          "data": {
            "image/png": "[encoded data removed]",
            "text/plain": [
              "<Figure size 864x432 with 1 Axes>"
            ]
          },
          "metadata": {
            "tags": [],
            "needs_background": "light"
          }
        }
      ]
    },
    {
      "cell_type": "code",
      "metadata": {
        "colab": {
          "base_uri": "https://localhost:8080/"
        },
        "id": "9ivpDAHYZ8IQ",
        "outputId": "bf6e500f-fa87-434b-bc66-c173761bd584"
      },
      "source": [
        "np.mean(np.array(replicated_stat) > 0.64)"
      ],
      "execution_count": 26,
      "outputs": [
        {
          "output_type": "execute_result",
          "data": {
            "text/plain": [
              "0.998"
            ]
          },
          "metadata": {
            "tags": []
          },
          "execution_count": 26
        }
      ]
    },
    {
      "cell_type": "code",
      "metadata": {
        "id": "-rJeVI1XaHar"
      },
      "source": [
        ""
      ],
      "execution_count": null,
      "outputs": []
    }
  ]
}