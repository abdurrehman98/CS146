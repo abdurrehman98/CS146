{
  "nbformat": 4,
  "nbformat_minor": 0,
  "metadata": {
    "kernelspec": {
      "display_name": "Python 3",
      "language": "python",
      "name": "python3"
    },
    "language_info": {
      "codemirror_mode": {
        "name": "ipython",
        "version": 3
      },
      "file_extension": ".py",
      "mimetype": "text/x-python",
      "name": "python",
      "nbconvert_exporter": "python",
      "pygments_lexer": "ipython3",
      "version": "3.7.0"
    },
    "colab": {
      "name": "5.1.ipynb",
      "provenance": []
    }
  },
  "cells": [
    {
      "cell_type": "markdown",
      "metadata": {
        "id": "wuxyfnQwEwwl"
      },
      "source": [
        "# Pre-class work\n",
        "\n",
        "We consider the eczema medical trial data set again. This time we will compare which of 2 models explain the observed data best.\n",
        "\n",
        "* Model 1: All studies have the same probability of success.\n",
        "* Model 2: A hierarchical model where the probability of success in each study is drawn from a beta prior distribution with unknown $\\alpha$ and $\\beta$ parameters.\n",
        "\n",
        "\n",
        "|Study          | Treatment group |   Control group  |\n",
        "|---------------|-----------------|------------------|\n",
        "|Di Rienzo 2014 |     20 / 23     |        9 / 15    |\n",
        "|Galli 1994     |     10 / 16     |       11 / 18    |\n",
        "|Kaufman 1974   |     13 / 16     |        4 / 10    |\n",
        "|Qin 2014       |     35 / 45     |       21 / 39    |\n",
        "|Sanchez 2012   |     22 / 31     |       12 / 29    |\n",
        "|Silny 2006     |      7 / 10     |        0 / 10    |\n",
        "|**Totals**     |    107 / 141    |       57 / 121   |\n",
        "\n",
        "\n",
        "**Model 1:**\n",
        "\n",
        "* For each group (treatment and control), all 6 studies have the same fixed, but unknown, probability of success, $\\theta_t,\\theta_c\\in[0,1]$.\n",
        "* The data follow a binomial distribution in each study, conditioned on the probability of success — $\\theta_t$ for treatment or $\\theta_c$ for control.\n",
        "* The priors over $\\theta_t$ and $\\theta_c$ are uniform.\n",
        "\n",
        "These assumptions lead to the following model.\n",
        "\n",
        "* Likelihood: $\\prod_{i=1}^6 \\text{Binomial}(s_i\\,|\\,\\theta, n_i)$, where $s_i$ is the number of successful recoveries, $f_i$ is the number of failures (did not recover), and $n_i=s_i+f_i$ the number of patients.\n",
        "\n",
        "* Prior: $\\text{Beta}(\\theta\\,|\\,1,1)$ for both $\\theta_t$ and $\\theta_c$.\n",
        "\n",
        "* Posterior for treatment group: $\\text{Beta}(\\theta_t\\,|\\,108, 35)$.\n",
        "\n",
        "* Posterior for control group: $\\text{Beta}(\\theta_c\\,|\\,58, 65)$."
      ]
    },
    {
      "cell_type": "markdown",
      "metadata": {
        "id": "IkeQToyTEwwm"
      },
      "source": [
        "Since we have closed-form solutions for the posteriors, we can calculate the marginal likelihood by rearranging Bayes' equation: (marginal likelihood) = (likelihood) x (prior) / (posterior).\n",
        "\n",
        "$$ P(\\text{data}) = \\left[\\prod_{i=1}^6 \\text{Binomial}(s_i\\,|\\,\\theta, n_i) \\right] \\text{Beta}(\\theta\\,|\\,\\alpha_0,\\beta_0) \\,/\\, \\text{Beta}(\\theta\\,|\\,\\alpha_1,\\beta_1)$$\n",
        "where $\\alpha_0=1$ and $\\beta_0=1$ are the parameters of the prior, and $\\alpha_1$ and $\\beta_1$ are the parameters of the posterior beta distribution.\n",
        "\n",
        "Since all factors involving $\\theta$ cancel out, we are just left with the normalization constants of the likelihood, the prior and the posterior:\n",
        "\n",
        "$$\\begin{aligned}\n",
        "P(\\text{data})\n",
        "&= \\left[ \\prod_{i=1}^6 \\left(\\begin{array}{c}s_i+f_i \\\\ s_i\\end{array}\\right) \\right] \\frac{\\text{B}(\\alpha_1,\\beta_1)}{\\text{B}(\\alpha_0,\\beta_0)} \\\\\n",
        "&= \\left[\\prod_{i=1}^6 \\frac{1}{(s_i+f_i+1)\\text{B}(s_i+1,f_i+1)}\\right] \\frac{\\text{B}(\\alpha_1,\\beta_1)}{\\text{B}(\\alpha_0,\\beta_0)}\n",
        "\\end{aligned}$$\n",
        "\n",
        "We usually compute the log of the marginal likelihood since the results can vary over many orders of magnitude.\n",
        "\n",
        "**A word on notation** in the derivation above:\n",
        "\n",
        "* The beta _distribution_ is written as $\\text{Beta}(\\theta \\,|\\, \\alpha, \\beta)$.\n",
        "* The beta _function_ is written as $B(\\alpha,\\beta)$. $B$ is the Greek letter _capital beta_.\n",
        "* The beta function is part of the normalization constant of the beta distribution.\n",
        "\n",
        "This is similar to the gamma distribution and the gamma function, where\n",
        "\n",
        "* the distribution is written as $\\text{Gamma}(x \\,|\\, \\alpha, \\beta)$,\n",
        "* the function is written as $\\Gamma(\\alpha)$,\n",
        "* the gamma function is part of the normalization constant of the gamma distribution.\n",
        "\n",
        "**A word on simplifying the expression** in the derivation above:\n",
        "\n",
        "Just as the gamma function is related to factorials, the beta function is related to combinations:\n",
        "\n",
        "* $n! = \\Gamma(n+1)$ for integer $n$.\n",
        "* $\\binom{n}{k}=\\left((n+1)\\cdot B(n-k+1, k+1)\\right)^{-1}$\n",
        "\n",
        "The beta function can also be written in terms of the gamma function:\n",
        "\n",
        "* $B(x,y) = \\Gamma(x)\\ \\Gamma(y)\\ /\\ \\Gamma(x+y)$\n"
      ]
    },
    {
      "cell_type": "markdown",
      "metadata": {
        "id": "8ZN1fc8lEwwn"
      },
      "source": [
        "## Task 1\n",
        "\n",
        "1. Take the log of the marginal likelihood above.\n",
        "2. Complete the Python function below to calculate the log marginal likelihood.\n",
        "3. You can use the built-in function `scipy.special.betaln(a,b)` to compute $\\log \\text{B}(a,b)$."
      ]
    },
    {
      "cell_type": "code",
      "metadata": {
        "id": "M9J31BKtEwwn"
      },
      "source": [
        "#import libraries\n",
        "import numpy as np\n",
        "import scipy.stats as stats\n",
        "import matplotlib.pyplot as plt\n",
        "\n",
        "#success count in the control groups\n",
        "control = [9,11,4,21,12,0]\n",
        "\n",
        "#size of the control groups\n",
        "control_length = [15,18,10,39,29,10]\n",
        "\n",
        "# Using the Standard Deviation as the test statistic as there is some observable variance in the dataset\n",
        "def test_statistic(data):\n",
        "    s_rates = []\n",
        "    for i in range(len(data)):\n",
        "        s_rate = data[i]/control_length[i]\n",
        "        s_rates.append(s_rate)\n",
        "    stdev = np.std(s_rates)\n",
        "    return stdev"
      ],
      "execution_count": 19,
      "outputs": []
    },
    {
      "cell_type": "code",
      "metadata": {
        "id": "cXO5wCEyFhQl",
        "outputId": "75f2de02-9bac-4d2f-8eb3-d34518f53098",
        "colab": {
          "base_uri": "https://localhost:8080/",
          "height": 331
        }
      },
      "source": [
        "# Generating Posterior Samples\n",
        "posterior_samples = stats.beta.rvs(a=58,b=65,size=1000)\n",
        "\n",
        "test_statistics =[]\n",
        "# creating a replicated dataset\n",
        "for i in posterior_samples:\n",
        "    test_total = [int(stats.binom.rvs(control_size[j],i,size=1)) for j in range(len(control_size))]\n",
        "    test_statistics.append(test_statistic(test_total))\n",
        "    \n",
        "#descriptive stats\n",
        "real_test_statistic = test_statistic(control)\n",
        "print(\"Real Test Statistic: \",real_test_statistic)\n",
        "print(\"Mean Test Statistic: \", np.mean(test_statistics))\n",
        "\n",
        "\n",
        "plt.hist(test_statistics, alpha=0.5, density=True)\n",
        "plt.title(\"Distribution of Success Rate Standard Deviation in Replicated Data\")\n",
        "plt.axvline(real_test_statistic, color='black')\n",
        "\n",
        "p_val = sum([1 for i in test_statistics if i > real_test_statistic])/len(test_statistics)\n",
        "print('p-val: ',p_val)"
      ],
      "execution_count": 21,
      "outputs": [
        {
          "output_type": "stream",
          "text": [
            "Real Test Statistic:  0.20795900518575364\n",
            "Mean Test Statistic:  0.10854235450620583\n",
            "p-val:  0.005\n"
          ],
          "name": "stdout"
        },
        {
          "output_type": "display_data",
          "data": {
            "image/png": "[encoded data removed]",
            "text/plain": [
              "<Figure size 432x288 with 1 Axes>"
            ]
          },
          "metadata": {
            "tags": [],
            "needs_background": "light"
          }
        }
      ]
    },
    {
      "cell_type": "code",
      "metadata": {
        "id": "e9e10P4cEwwu"
      },
      "source": [
        ""
      ],
      "execution_count": null,
      "outputs": []
    }
  ]
}