{
 "cells": [
  {
   "cell_type": "markdown",
   "metadata": {},
   "source": [
    "# Call center data modeling\n",
    "\n",
    "You are advising a client on the number of call center agents they need to handle their customer support load. We start by modeling the number of phone calls we expect to come into the call center during each hour of the day.\n",
    "\n",
    "You are provided with a data set of the intervals between phone calls arriving during one day. Each value is a time in minutes indicating the amount of time that passed between receiving two consecutive phone calls.\n",
    "\n",
    "## Loading the data"
   ]
  },
  {
   "cell_type": "code",
   "execution_count": 1,
   "metadata": {},
   "outputs": [
    {
     "name": "stdout",
     "output_type": "stream",
     "text": [
      "C:\\Users\\abdur\\OneDrive\\Documents\\CS146\\2.2\\2.2\n"
     ]
    }
   ],
   "source": [
    "cd C:\\Users\\abdur\\OneDrive\\Documents\\CS146\\2.2\\2.2"
   ]
  },
  {
   "cell_type": "code",
   "execution_count": 7,
   "metadata": {},
   "outputs": [],
   "source": [
    "import numpy as np\n",
    "import scipy as sp\n",
    "import scipy.stats as stats\n",
    "import matplotlib.pyplot as plt\n",
    "\n",
    "%matplotlib inline"
   ]
  },
  {
   "cell_type": "code",
   "execution_count": 3,
   "metadata": {},
   "outputs": [
    {
     "name": "stdout",
     "output_type": "stream",
     "text": [
      "Size of data set: 5856\n",
      "First 3 values in data set: [30.   3.4  3.2]\n",
      "Sum of data set: 1441.6838153800093\n"
     ]
    }
   ],
   "source": [
    "# Load the data set containing durations between calls arriving at the call\n",
    "# center during 1 day. All values are in minutes.\n",
    "waiting_times_day = np.loadtxt('call_center.csv')\n",
    "\n",
    "# Display some basic information about the data set.\n",
    "print('Size of data set:', len(waiting_times_day))\n",
    "print('First 3 values in data set:', waiting_times_day[:3])\n",
    "print('Sum of data set:', sum(waiting_times_day))"
   ]
  },
  {
   "cell_type": "markdown",
   "metadata": {},
   "source": [
    "Since the values are intervals between calls measured in minutes, this means\n",
    "\n",
    "* we assume the first call happened at 00:00 (midnight),\n",
    "* the second call happened at about 00:30 (30 minutes after midnight),\n",
    "* the third call happened at about 00:33 (30 + 3.4 minutes),\n",
    "* the fourth call happened at about 00:37, etc.\n",
    "\n",
    "When we sum the values, we get about 1440 minutes (1 day)."
   ]
  },
  {
   "cell_type": "markdown",
   "metadata": {},
   "source": [
    "You are told that the number of calls arriving varies quite a lot, depending on which hour of the day it is. The smallest number of calls usually occur around 3am or 4am. Most calls usually come in between 11am and 1pm.\n",
    "\n",
    "## Data pre-processing\n",
    "Since we expect different call rates during different hours, we split the data set into 24 separate series — one for each hour of the day."
   ]
  },
  {
   "cell_type": "code",
   "execution_count": 4,
   "metadata": {},
   "outputs": [
    {
     "name": "stdout",
     "output_type": "stream",
     "text": [
      "00:00-01:00 - 5 calls\n",
      "01:00-02:00 - 4 calls\n",
      "02:00-03:00 - 6 calls\n",
      "03:00-04:00 - 8 calls\n",
      "04:00-05:00 - 26 calls\n",
      "05:00-06:00 - 53 calls\n",
      "06:00-07:00 - 93 calls\n",
      "07:00-08:00 - 173 calls\n",
      "08:00-09:00 - 254 calls\n",
      "09:00-10:00 - 345 calls\n",
      "10:00-11:00 - 496 calls\n",
      "11:00-12:00 - 924 calls\n",
      "12:00-13:00 - 858 calls\n",
      "13:00-14:00 - 382 calls\n",
      "14:00-15:00 - 185 calls\n",
      "15:00-16:00 - 207 calls\n",
      "16:00-17:00 - 263 calls\n",
      "17:00-18:00 - 419 calls\n",
      "18:00-19:00 - 531 calls\n",
      "19:00-20:00 - 400 calls\n",
      "20:00-21:00 - 137 calls\n",
      "21:00-22:00 - 51 calls\n",
      "22:00-23:00 - 20 calls\n",
      "23:00-24:00 - 16 calls\n"
     ]
    }
   ],
   "source": [
    "# Make 24 empty lists, one per hour.\n",
    "waiting_times_per_hour = [[] for _ in range(24)]\n",
    "\n",
    "# Split the data into 24 separate series, one for each hour of the day.\n",
    "current_time = 0\n",
    "for t in waiting_times_day:\n",
    "    current_hour = int(current_time // 60)\n",
    "    current_time += t\n",
    "    waiting_times_per_hour[current_hour].append(t)\n",
    "\n",
    "for hour, calls_in_hour in enumerate(waiting_times_per_hour):\n",
    "    print(f'{hour:02}:00-{hour + 1:02}:00 - {len(calls_in_hour)} calls')"
   ]
  },
  {
   "cell_type": "code",
   "execution_count": 9,
   "metadata": {},
   "outputs": [
    {
     "data": {
      "image/png": "[encoded data removed]",
      "text/plain": [
       "<Figure size 432x288 with 1 Axes>"
      ]
     },
     "metadata": {
      "needs_background": "light"
     },
     "output_type": "display_data"
    }
   ],
   "source": [
    "calls_per_hour = [len(hour) for hour in waiting_times_per_hour]\n",
    "plt.bar(range(0,24),calls_per_hour)\n",
    "plt.xlabel('Hour')\n",
    "plt.ylabel('# of Calls')\n",
    "plt.title('Calls per Hour in a day')\n",
    "\n",
    "plt.show()"
   ]
  },
  {
   "cell_type": "code",
   "execution_count": 96,
   "metadata": {},
   "outputs": [
    {
     "data": {
      "image/png": "[encoded data removed]",
      "text/plain": [
       "<Figure size 432x288 with 1 Axes>"
      ]
     },
     "metadata": {
      "needs_background": "light"
     },
     "output_type": "display_data"
    },
    {
     "data": {
      "text/plain": [
       "<Figure size 576x432 with 0 Axes>"
      ]
     },
     "metadata": {},
     "output_type": "display_data"
    }
   ],
   "source": [
    "plt.hist(waiting_times_per_hour[8], density = True)\n",
    "x = np.linspace(0,2,200)\n",
    "plt.plot(x,sts.expon.pdf(x,scale=1/4))\n",
    "plt.xlabel('Total Wait')\n",
    "plt.ylabel('Occurrences')\n",
    "plt.title('Wait time in the 9th Hour')\n",
    "plt.figure(figsize = (8,6))\n",
    "plt.show()"
   ]
  },
  {
   "cell_type": "code",
   "execution_count": 43,
   "metadata": {},
   "outputs": [
    {
     "name": "stdout",
     "output_type": "stream",
     "text": [
      "98% confidence interval over lambda for hour 0: [0.03, 0.21]\n",
      "mean of lambda: 0.10\n",
      "98% confidence interval over lambda for hour 1: [0.02, 0.17]\n",
      "mean of lambda: 0.07\n",
      "98% confidence interval over lambda for hour 2: [0.03, 0.19]\n",
      "mean of lambda: 0.09\n",
      "98% confidence interval over lambda for hour 3: [0.09, 0.47]\n",
      "mean of lambda: 0.24\n",
      "98% confidence interval over lambda for hour 4: [0.27, 0.66]\n",
      "mean of lambda: 0.44\n",
      "98% confidence interval over lambda for hour 5: [0.64, 1.21]\n",
      "mean of lambda: 0.90\n",
      "98% confidence interval over lambda for hour 6: [1.23, 2.00]\n",
      "mean of lambda: 1.59\n",
      "98% confidence interval over lambda for hour 7: [2.40, 3.41]\n",
      "mean of lambda: 2.88\n",
      "98% confidence interval over lambda for hour 8: [3.66, 4.90]\n",
      "mean of lambda: 4.26\n",
      "98% confidence interval over lambda for hour 9: [5.04, 6.47]\n",
      "mean of lambda: 5.73\n",
      "98% confidence interval over lambda for hour 10: [7.44, 9.17]\n",
      "mean of lambda: 8.28\n",
      "98% confidence interval over lambda for hour 11: [14.19, 16.54]\n",
      "mean of lambda: 15.34\n",
      "98% confidence interval over lambda for hour 12: [13.14, 15.41]\n",
      "mean of lambda: 14.25\n",
      "98% confidence interval over lambda for hour 13: [5.62, 7.13]\n",
      "mean of lambda: 6.35\n",
      "98% confidence interval over lambda for hour 14: [2.59, 3.65]\n",
      "mean of lambda: 3.09\n",
      "98% confidence interval over lambda for hour 15: [2.92, 4.03]\n",
      "mean of lambda: 3.45\n",
      "98% confidence interval over lambda for hour 16: [3.78, 5.03]\n",
      "mean of lambda: 4.38\n",
      "98% confidence interval over lambda for hour 17: [6.21, 7.79]\n",
      "mean of lambda: 6.97\n",
      "98% confidence interval over lambda for hour 18: [7.93, 9.71]\n",
      "mean of lambda: 8.80\n",
      "98% confidence interval over lambda for hour 19: [5.90, 7.44]\n",
      "mean of lambda: 6.65\n",
      "98% confidence interval over lambda for hour 20: [1.86, 2.76]\n",
      "mean of lambda: 2.29\n",
      "98% confidence interval over lambda for hour 21: [0.59, 1.12]\n",
      "mean of lambda: 0.83\n",
      "98% confidence interval over lambda for hour 22: [0.19, 0.54]\n",
      "mean of lambda: 0.34\n",
      "98% confidence interval over lambda for hour 23: [0.15, 0.49]\n",
      "mean of lambda: 0.29\n"
     ]
    }
   ],
   "source": [
    "alpha_1 = []\n",
    "beta_1 = []\n",
    "posterior_1 = []\n",
    "data = []\n",
    "for hour, waiting_times_hour in enumerate(waiting_times_per_hour):\n",
    "    \n",
    "    # prior \n",
    "    alpha_0 = 1\n",
    "    beta_0 = 0.25\n",
    "    \n",
    "    # posterior\n",
    "    alpha = alpha_0 + len(waiting_times_hour)\n",
    "    beta = beta_0 + sum(waiting_times_hour)\n",
    "    #print(\"Posterior for hour {:d} is: α = {:.2f}, β = {:.2f}\".format(hour, alpha, beta))\n",
    "    \n",
    "    # posterior distribution\n",
    "    posterior = stats.gamma(a=alpha, scale=1/beta)\n",
    "    print (\"98% confidence interval over lambda for hour {:d}: [{:.2f}, {:.2f}]\".format(hour, posterior.ppf(0.01), posterior.ppf(0.99)))\n",
    "    print (\"mean of lambda: {:.2f}\".format(posterior.mean()))\n",
    "    data.append([posterior.ppf(0.01), posterior.ppf(0.99), posterior.mean()])\n",
    "    #append data\n",
    "    alpha_1.append(alpha)\n",
    "    beta_1.append(beta)\n",
    "    posterior_1.append(posterior)"
   ]
  },
  {
   "cell_type": "code",
   "execution_count": 45,
   "metadata": {},
   "outputs": [
    {
     "data": {
      "image/png": "[encoded data removed]",
      "text/plain": [
       "<Figure size 1296x864 with 1 Axes>"
      ]
     },
     "metadata": {
      "needs_background": "light"
     },
     "output_type": "display_data"
    }
   ],
   "source": [
    "mean_per_hour = [post.mean() for post in posterior_per_hour]\n",
    "confint_98 = [post.mean() - post.ppf(0.01) for post in posterior_per_hour]\n",
    "\n",
    "plt.figure(figsize=(18, 12))\n",
    "plt.errorbar(x=list(range(0, 24)), y=mean_per_hour, yerr=confint_98, fmt='o', uplims = True, lolims = True)\n",
    "plt.title(\"98% confidence interval of λ for all 24 hours of the day\")\n",
    "plt.xlabel(\"hour of the day\")\n",
    "plt.xticks(list(range(0, 24)))\n",
    "plt.ylabel(\"Call Rate (calls per minute)\")\n",
    "plt.show()"
   ]
  },
  {
   "cell_type": "markdown",
   "metadata": {},
   "source": [
    "Over the course of 24 Hours, different call rates will be expected. As the day progresses, the calls start picking up around 5 - 6 AM, and then keep increasing til noon. This is the busiest time of the day for the company, with the mean call rate at 15.4 calls/minute, but even 16.54 calls/min which is the upper bound of the confidence interval is within possibility. Even though the mean number of calls (which is the expected number of calls) can be observed by the 'dots' in the diagram, there is a level of unpredictability that exists, which is what the accompanying error bars are there for. This means that the calls per minute can exist within any of those ranges for each hour. After noon, at around lunchtime the call rate significantly drops - all the way down to just above 2.5 calls/minute, but then it steadily picks up again through the evening. Finally, as the work day ends around 5PM, thats when the call rate starts dropping until it eventually becomes minimal near midnight."
   ]
  },
  {
   "cell_type": "code",
   "execution_count": null,
   "metadata": {},
   "outputs": [],
   "source": []
  }
 ],
 "metadata": {
  "kernelspec": {
   "display_name": "Python 3",
   "language": "python",
   "name": "python3"
  },
  "language_info": {
   "codemirror_mode": {
    "name": "ipython",
    "version": 3
   },
   "file_extension": ".py",
   "mimetype": "text/x-python",
   "name": "python",
   "nbconvert_exporter": "python",
   "pygments_lexer": "ipython3",
   "version": "3.7.0"
  }
 },
 "nbformat": 4,
 "nbformat_minor": 2
}
