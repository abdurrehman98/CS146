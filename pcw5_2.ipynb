{
  "nbformat": 4,
  "nbformat_minor": 0,
  "metadata": {
    "colab": {
      "name": "pcw5.2.ipynb",
      "provenance": []
    },
    "kernelspec": {
      "name": "python3",
      "display_name": "Python 3"
    }
  },
  "cells": [
    {
      "cell_type": "code",
      "metadata": {
        "id": "0BXQiGgCxvZl"
      },
      "source": [
        "\r\n",
        "import pystan\r\n"
      ],
      "execution_count": 4,
      "outputs": []
    },
    {
      "cell_type": "markdown",
      "metadata": {
        "id": "J-sZQFR3aZEo"
      },
      "source": [
        "\r\n",
        "Pre-class work\r\n",
        "Below is the data set from 6 medical trials on the effect of specific allergen immunotherapy (SIT) on eczema patients.\r\n",
        "\r\n",
        "Study\tTG improved\tTG not improved\tCG improved\tCG not improved\r\n",
        "Di Rienzo 2014\t20\t3\t9\t6\r\n",
        "Galli 1994\t10\t6\t11\t7\r\n",
        "Kaufman 1974\t13\t3\t4\t6\r\n",
        "Qin 2014\t35\t10\t21\t18\r\n",
        "Sanchez 2012\t22\t9\t12\t17\r\n",
        "Silny 2006\t7\t3\t0\t10\r\n",
        "Totals\t107\t34\t57\t64\r\n",
        "TG = Treatment group\r\n",
        "CG = Control group\r\n",
        "The model we used was that each trial's results were generated from a binomial distribution over the number of improved patients with a common improvement rate parameter shared between all trials.\r\n",
        "\r\n",
        "For the treatment group we use a subscript $t$:\r\n",
        "\r\n",
        "$$\\begin{align}\r\n",
        "k_{ti} &amp;\\sim \\text{Binomial}(n_{ti}, p_t) \\qquad i=1,2,\\ldots 6\\\\\r\n",
        "p_t &amp;\\sim \\text{Beta}(\\alpha=1, \\beta=1)\r\n",
        "\\end{align}$$\r\n",
        "For the control group we use a subscript $c$:\r\n",
        "\r\n",
        "$$\\begin{align}\r\n",
        "k_{ci} &amp;\\sim \\text{Binomial}(n_{ci}, p_c) \\qquad i=1,2,\\ldots 6\\\\\r\n",
        "p_c &amp;\\sim \\text{Beta}(\\alpha=1, \\beta=1)\r\n",
        "\\end{align}$$\r\n",
        "So we have the same model structure for the treatment and control groups, just with different data.\r\n",
        "\r\n",
        "The code below implements the Stan model for the scenario above.\r\n",
        "\r\n",
        "Carefully read through the code, including all comments, to understand how Stan is used to represent the medical trial model.\r\n",
        "Run the code to see inference results for the treatment group.\r\n",
        "Complete the two tasks at the end of the notebook."
      ]
    },
    {
      "cell_type": "code",
      "metadata": {
        "id": "3bNd9TC_xyKm"
      },
      "source": [
        "import numpy as np\r\n",
        "import matplotlib.pyplot as plt"
      ],
      "execution_count": 2,
      "outputs": []
    },
    {
      "cell_type": "code",
      "metadata": {
        "id": "bbtdhmufx1V9"
      },
      "source": [
        "# For Stan we provide all known quantities as data, namely the observed data\r\n",
        "# and our prior hyperparameters.\r\n",
        "eczema_data = {\r\n",
        "    'treatment': {\r\n",
        "        'alpha': 1,  # fixed prior hyperparameters for the\r\n",
        "        'beta': 1,   # beta distribution\r\n",
        "        'num_trials': 6,  # number of trials in the data set\r\n",
        "        'patients': [23, 16, 16, 45, 31, 10],  # number of patients per trial\r\n",
        "        'improved': [20, 10, 13, 35, 22, 7]},  # number of improved patients per trial\r\n",
        "    'control': {\r\n",
        "        'alpha': 1,\r\n",
        "        'beta': 1,\r\n",
        "        'num_trials': 6,\r\n",
        "        'patients': [15, 18, 10, 39, 29, 10],\r\n",
        "        'improved': [9, 11, 4, 21, 12, 0]}}\r\n"
      ],
      "execution_count": 5,
      "outputs": []
    },
    {
      "cell_type": "code",
      "metadata": {
        "id": "_jVKVyuEx5LI"
      },
      "source": [
        "# Below is the Stan code for the medical trial data set. Note that the Stan\r\n",
        "# code is a string that is passed to the StanModel object below.\r\n",
        "\r\n",
        "# We have to tell Stan what data to expect, what our parameters are and what\r\n",
        "# the likelihood and prior are. Since the posterior is just proportional to\r\n",
        "# the product of the likelihood and the prior, we don't distinguish between\r\n",
        "# them explicitly in the model below. Every distribution we specify is\r\n",
        "# automatically incorporated into the product of likelihood * prior.\r\n",
        "\r\n",
        "stan_code = \"\"\"\r\n",
        "\r\n",
        "// The data block contains all known quantities - typically the observed\r\n",
        "// data and any constant hyperparameters.\r\n",
        "data {  \r\n",
        "    int<lower=1> num_trials;  // number of trials in the data set\r\n",
        "    int<lower=0> patients[num_trials];  // number of patients per trial\r\n",
        "    int<lower=0> improved[num_trials];  // number of improved patients per trial\r\n",
        "    real<lower=0> alpha;  // fixed prior hyperparameter\r\n",
        "    real<lower=0> beta;   // fixed prior hyperparameter\r\n",
        "}\r\n",
        "\r\n",
        "// The parameters block contains all unknown quantities - typically the\r\n",
        "// parameters of the model. Stan will generate samples from the posterior\r\n",
        "// distributions over all parameters.\r\n",
        "parameters {\r\n",
        "    real<lower=0,upper=1> p;  // probability of improvement - the\r\n",
        "                              // parameter of the binomial likelihood\r\n",
        "}\r\n",
        "\r\n",
        "// The model block contains all probability distributions in the model.\r\n",
        "// This of this as specifying the generative model for the scenario.\r\n",
        "model {\r\n",
        "    p ~ beta(alpha, beta);  // prior over p\r\n",
        "    for(i in 1:num_trials) {\r\n",
        "        improved[i] ~ binomial(patients[i], p);  // likelihood function\r\n",
        "    }\r\n",
        "}\r\n",
        "\r\n",
        "\"\"\""
      ],
      "execution_count": 6,
      "outputs": []
    },
    {
      "cell_type": "code",
      "metadata": {
        "colab": {
          "base_uri": "https://localhost:8080/"
        },
        "id": "d1fLXhq5yAUs",
        "outputId": "7144bb67-18fe-4bee-eac6-746f161694b2"
      },
      "source": [
        "# This cell takes a while to run. Compiling a Stan model will feel slow even\r\n",
        "# on simple models, but it isn't much slower for really complex models. Stan\r\n",
        "# is translating the model specified above to C++ code and compiling the C++\r\n",
        "# code to a binary that it can executed. The advantage is that the model needs\r\n",
        "# to be compiled only once. Once that is done, the same code can be reused\r\n",
        "# to generate samples for different data sets really quickly.\r\n",
        "\r\n",
        "stan_model = pystan.StanModel(model_code=stan_code)"
      ],
      "execution_count": 7,
      "outputs": [
        {
          "output_type": "stream",
          "text": [
            "INFO:pystan:COMPILING THE C++ CODE FOR MODEL anon_model_4822bea325d0250e03828b3bc1bb8bdd NOW.\n"
          ],
          "name": "stderr"
        }
      ]
    },
    {
      "cell_type": "code",
      "metadata": {
        "id": "gPH9SdgKyF1h"
      },
      "source": [
        "\r\n",
        "# Fit the model to the data. This will generate samples from the posterior over\r\n",
        "# all parameters of the model. We start by computing posteriors for the treatment\r\n",
        "# data.\r\n",
        "\r\n",
        "stan_results = stan_model.sampling(data=eczema_data['treatment'])"
      ],
      "execution_count": 8,
      "outputs": []
    },
    {
      "cell_type": "code",
      "metadata": {
        "colab": {
          "base_uri": "https://localhost:8080/"
        },
        "id": "JeAXxrbGycvl",
        "outputId": "85bd7b9e-f72b-4b5f-9afc-6dd53c0dbbf1"
      },
      "source": [
        "# Print out the mean, standard deviation and quantiles of all parameters.\r\n",
        "# These are approximate values derived from the samples generated by Stan.\r\n",
        "# You can ignore the \"lp__\" row for now. Pay attention to the row for\r\n",
        "# the \"p\" parameter of the model.\r\n",
        "#\r\n",
        "# The columns in the summary are\r\n",
        "#\r\n",
        "#  * mean: The expected value of the posterior over the parameter\r\n",
        "#  * se_mean: The estimated error in the posterior mean\r\n",
        "#  * sd: The standard deviation of the posterior over the parameter\r\n",
        "#  * 2.5%, etc.: Percentiles of the posterior over the parameter\r\n",
        "#  * n_eff: The effective number of samples generated by Stan. The\r\n",
        "#           larger this value, the better.\r\n",
        "#  * Rhat: An estimate of the quality of the samples. This should be\r\n",
        "#          close to 1.0, otherwise there might be a problem with the\r\n",
        "#          convergence of the sampler.\r\n",
        "\r\n",
        "print(stan_results)"
      ],
      "execution_count": 9,
      "outputs": [
        {
          "output_type": "stream",
          "text": [
            "Inference for Stan model: anon_model_4822bea325d0250e03828b3bc1bb8bdd.\n",
            "4 chains, each with iter=2000; warmup=1000; thin=1; \n",
            "post-warmup draws per chain=1000, total post-warmup draws=4000.\n",
            "\n",
            "       mean se_mean     sd   2.5%    25%    50%    75%  97.5%  n_eff   Rhat\n",
            "p      0.76  8.6e-4   0.04   0.68   0.73   0.76   0.78   0.82   1699    1.0\n",
            "lp__ -80.07    0.02   0.67  -82.0 -80.25 -79.81 -79.63 -79.58   1704    1.0\n",
            "\n",
            "Samples were drawn using NUTS at Wed Feb 10 05:36:05 2021.\n",
            "For each parameter, n_eff is a crude measure of effective sample size,\n",
            "and Rhat is the potential scale reduction factor on split chains (at \n",
            "convergence, Rhat=1).\n"
          ],
          "name": "stdout"
        }
      ]
    },
    {
      "cell_type": "code",
      "metadata": {
        "colab": {
          "base_uri": "https://localhost:8080/"
        },
        "id": "WdDyUJCxyff3",
        "outputId": "5a424d05-83d5-4369-fa4c-6f484f4ffba4"
      },
      "source": [
        "# Specify which parameters you want to see in the summary table using\r\n",
        "# the \"pars\" keyword argument. Specify which percentiles you want to\r\n",
        "# see using the \"probs\" keyword argument.\r\n",
        "#\r\n",
        "# The statement below shows only the 2.5, 50, 97.5 percentiles for the\r\n",
        "# parameter p.\r\n",
        "\r\n",
        "print(stan_results.stansummary(pars=['p'], probs=[0.025, 0.5, 0.975]))"
      ],
      "execution_count": 10,
      "outputs": [
        {
          "output_type": "stream",
          "text": [
            "Inference for Stan model: anon_model_4822bea325d0250e03828b3bc1bb8bdd.\n",
            "4 chains, each with iter=2000; warmup=1000; thin=1; \n",
            "post-warmup draws per chain=1000, total post-warmup draws=4000.\n",
            "\n",
            "    mean se_mean     sd   2.5%    50%  97.5%  n_eff   Rhat\n",
            "p   0.76  8.6e-4   0.04   0.68   0.76   0.82   1699    1.0\n",
            "\n",
            "Samples were drawn using NUTS at Wed Feb 10 05:36:05 2021.\n",
            "For each parameter, n_eff is a crude measure of effective sample size,\n",
            "and Rhat is the potential scale reduction factor on split chains (at \n",
            "convergence, Rhat=1).\n"
          ],
          "name": "stdout"
        }
      ]
    },
    {
      "cell_type": "code",
      "metadata": {
        "colab": {
          "base_uri": "https://localhost:8080/",
          "height": 298
        },
        "id": "1ycyHl3kyikz",
        "outputId": "69ce4650-ee5b-482a-fd24-adedc83c444d"
      },
      "source": [
        "# Finally, we can extract the samples generated by Stan so that we\r\n",
        "# can plot them or calculate any other functions or expected values\r\n",
        "# we might be interested in.\r\n",
        "posterior_samples = stan_results.extract()\r\n",
        "plt.hist(posterior_samples['p'], bins=50, density=True)\r\n",
        "plt.title('Sampled posterior probability density for p')\r\n",
        "print(\r\n",
        "    \"Posterior 95% confidence interval for p:\",\r\n",
        "    np.percentile(posterior_samples['p'], [2.5, 97.5]))\r\n",
        "plt.show()"
      ],
      "execution_count": 11,
      "outputs": [
        {
          "output_type": "stream",
          "text": [
            "Posterior 95% confidence interval for p: [0.68373654 0.82152162]\n"
          ],
          "name": "stdout"
        },
        {
          "output_type": "display_data",
          "data": {
            "image/png": "[encoded data removed]",
            "text/plain": [
              "<Figure size 432x288 with 1 Axes>"
            ]
          },
          "metadata": {
            "tags": [],
            "needs_background": "light"
          }
        }
      ]
    },
    {
      "cell_type": "markdown",
      "metadata": {
        "id": "zl3TO9Oja5U9"
      },
      "source": [
        "\r\n",
        "# **Task 1**\r\n",
        "Reuse the code above to calculate the posterior 95% confidence interval for the probability of improvement in the control group.\r\n",
        "Plot the posterior histograms of the probability of improvement in the treatment and control groups on the same figure."
      ]
    },
    {
      "cell_type": "code",
      "metadata": {
        "id": "GBS3eZ6-ylv0"
      },
      "source": [
        "stan_results_1 = stan_model.sampling(data=eczema_data['control'])"
      ],
      "execution_count": 12,
      "outputs": []
    },
    {
      "cell_type": "code",
      "metadata": {
        "colab": {
          "base_uri": "https://localhost:8080/"
        },
        "id": "tO2YCRR4zJTA",
        "outputId": "9856300a-3dbc-43e0-bde5-9bfa56c894c0"
      },
      "source": [
        "print(stan_results_1)"
      ],
      "execution_count": 13,
      "outputs": [
        {
          "output_type": "stream",
          "text": [
            "Inference for Stan model: anon_model_4822bea325d0250e03828b3bc1bb8bdd.\n",
            "4 chains, each with iter=2000; warmup=1000; thin=1; \n",
            "post-warmup draws per chain=1000, total post-warmup draws=4000.\n",
            "\n",
            "       mean se_mean     sd   2.5%    25%    50%    75%  97.5%  n_eff   Rhat\n",
            "p      0.47  1.2e-3   0.05   0.38   0.44   0.47    0.5   0.56   1413    1.0\n",
            "lp__ -85.57    0.02   0.71 -87.57 -85.75 -85.29 -85.11 -85.06   1490    1.0\n",
            "\n",
            "Samples were drawn using NUTS at Wed Feb 10 05:36:09 2021.\n",
            "For each parameter, n_eff is a crude measure of effective sample size,\n",
            "and Rhat is the potential scale reduction factor on split chains (at \n",
            "convergence, Rhat=1).\n"
          ],
          "name": "stdout"
        }
      ]
    },
    {
      "cell_type": "code",
      "metadata": {
        "colab": {
          "base_uri": "https://localhost:8080/"
        },
        "id": "t5ynYD2FzLa5",
        "outputId": "ef7ebc29-7831-4ddb-fb2f-d755457fd757"
      },
      "source": [
        "print(stan_results_1.stansummary(pars=['p'], probs=[0.025, 0.5, 0.975]))"
      ],
      "execution_count": 14,
      "outputs": [
        {
          "output_type": "stream",
          "text": [
            "Inference for Stan model: anon_model_4822bea325d0250e03828b3bc1bb8bdd.\n",
            "4 chains, each with iter=2000; warmup=1000; thin=1; \n",
            "post-warmup draws per chain=1000, total post-warmup draws=4000.\n",
            "\n",
            "    mean se_mean     sd   2.5%    50%  97.5%  n_eff   Rhat\n",
            "p   0.47  1.2e-3   0.05   0.38   0.47   0.56   1413    1.0\n",
            "\n",
            "Samples were drawn using NUTS at Wed Feb 10 05:36:09 2021.\n",
            "For each parameter, n_eff is a crude measure of effective sample size,\n",
            "and Rhat is the potential scale reduction factor on split chains (at \n",
            "convergence, Rhat=1).\n"
          ],
          "name": "stdout"
        }
      ]
    },
    {
      "cell_type": "code",
      "metadata": {
        "colab": {
          "base_uri": "https://localhost:8080/",
          "height": 298
        },
        "id": "2ZiAuD9ezOuH",
        "outputId": "88d1c19f-ac44-42af-e4b9-a25e2c7a08e0"
      },
      "source": [
        "posterior_samples_1 = stan_results_1.extract()\r\n",
        "plt.hist(posterior_samples_1['p'], bins=50, density=True)\r\n",
        "plt.title('Sampled posterior probability density for p')\r\n",
        "print(\r\n",
        "    \"Posterior 95% confidence interval for p:\",\r\n",
        "    np.percentile(posterior_samples_1['p'], [2.5, 97.5]))"
      ],
      "execution_count": 15,
      "outputs": [
        {
          "output_type": "stream",
          "text": [
            "Posterior 95% confidence interval for p: [0.3813908  0.55929393]\n"
          ],
          "name": "stdout"
        },
        {
          "output_type": "display_data",
          "data": {
            "image/png": "[encoded data removed]",
            "text/plain": [
              "<Figure size 432x288 with 1 Axes>"
            ]
          },
          "metadata": {
            "tags": [],
            "needs_background": "light"
          }
        }
      ]
    },
    {
      "cell_type": "code",
      "metadata": {
        "colab": {
          "base_uri": "https://localhost:8080/",
          "height": 281
        },
        "id": "nFhVXdlCbjTS",
        "outputId": "a3e47c39-a14c-4bcf-9a3a-f7e52698710b"
      },
      "source": [
        "plt.hist(posterior_samples_1['p'], bins=50, density=True, label = 'Control')\r\n",
        "plt.hist(posterior_samples['p'], bins=50, density = True, label= 'Treatment')\r\n",
        "plt.title('Posterior Probability Density')\r\n",
        "plt.legend()\r\n",
        "plt.show()"
      ],
      "execution_count": 27,
      "outputs": [
        {
          "output_type": "display_data",
          "data": {
            "image/png": "[encoded data removed]",
            "text/plain": [
              "<Figure size 432x288 with 1 Axes>"
            ]
          },
          "metadata": {
            "tags": [],
            "needs_background": "light"
          }
        }
      ]
    },
    {
      "cell_type": "markdown",
      "metadata": {
        "id": "Pt8Gid23bI4r"
      },
      "source": [
        "\r\n",
        "## **Task 2**\r\n",
        "Using the samples from the treatment and control group posteriors, estimate the probability that treatment is at least 19% (in absolute terms) better than control, $P(p_t &gt; p_c + 0.19)$. We computed this result in Session 3.2 where we solved the same model analytically using the algebra of conjugate distributions."
      ]
    },
    {
      "cell_type": "code",
      "metadata": {
        "colab": {
          "base_uri": "https://localhost:8080/"
        },
        "id": "GkZZeAtqzV61",
        "outputId": "112450fc-0e02-4716-e250-ef342a73a843"
      },
      "source": [
        "#set up counters\r\n",
        "better = 0\r\n",
        "worse = 0\r\n",
        "\r\n",
        "#run iteration to keep track of how big the difference is\r\n",
        "for b in posterior_samples['p']:\r\n",
        "    for w in posterior_samples_1['p']:\r\n",
        "        #constraint specified\r\n",
        "        if b > w + 0.19:\r\n",
        "            better +=1\r\n",
        "        else:\r\n",
        "            worse +=1\r\n",
        "\r\n",
        "print('The probability that the treatment is at least 19% better is', better/(better+worse))"
      ],
      "execution_count": 25,
      "outputs": [
        {
          "output_type": "stream",
          "text": [
            "The probability that the treatment is at least 19% better is 0.9477135625\n"
          ],
          "name": "stdout"
        }
      ]
    }
  ]
}