{
 "cells": [
  {
   "cell_type": "code",
   "execution_count": 1,
   "metadata": {},
   "outputs": [
    {
     "name": "stdout",
     "output_type": "stream",
     "text": [
      "C:\\Users\\abdur\\Downloads\n"
     ]
    }
   ],
   "source": [
    "cd C:\\Users\\abdur\\Downloads"
   ]
  },
  {
   "cell_type": "code",
   "execution_count": 24,
   "metadata": {},
   "outputs": [],
   "source": [
    "import pandas as pd\n",
    "\n",
    "df = pd.read_csv('socialmobility.csv')"
   ]
  },
  {
   "cell_type": "code",
   "execution_count": 36,
   "metadata": {},
   "outputs": [
    {
     "name": "stdout",
     "output_type": "stream",
     "text": [
      "'P(son=skilled|father=unskilled): [0.31220385 0.33821864]\n"
     ]
    }
   ],
   "source": [
    "import numpy as np\n",
    "import pandas as pd\n",
    "\n",
    "df_unskilled = df[df.father == \"unskilled\"]\n",
    "priors = [1,1,1,1]\n",
    "posteriors = [priors[i] + df_unskilled['count'].iloc[i] for i in range(len(df_unskilled))]\n",
    "probability = stats.dirichlet(posteriors)\n",
    "samples = probability.rvs(size=100000)\n",
    "print(\"'P(son=skilled|father=unskilled):\", np.percentile(samples[:,2], [2.5, 97.5]))\n"
   ]
  },
  {
   "cell_type": "code",
   "execution_count": 34,
   "metadata": {},
   "outputs": [
    {
     "name": "stdout",
     "output_type": "stream",
     "text": [
      "P(father=farmer|son=professional): [0.1238142  0.13815963]\n"
     ]
    }
   ],
   "source": [
    "df_professional = df[df.son == \"professional\"]\n",
    "alpha_priors = [1,1,1,1]\n",
    "alpha_posteriors = [alpha_priors[i] + df_professional['count'].iloc[i] for i in range(len(df_professional))]\n",
    "dist = stats.dirichlet(alpha_posteriors)\n",
    "samples = dist.rvs(size=100000)\n",
    "print(\"P(father=farmer|son=professional):\", np.percentile(samples[:,0], [2.5, 97.5]))"
   ]
  },
  {
   "cell_type": "code",
   "execution_count": null,
   "metadata": {},
   "outputs": [],
   "source": []
  }
 ],
 "metadata": {
  "kernelspec": {
   "display_name": "Python 3",
   "language": "python",
   "name": "python3"
  },
  "language_info": {
   "codemirror_mode": {
    "name": "ipython",
    "version": 3
   },
   "file_extension": ".py",
   "mimetype": "text/x-python",
   "name": "python",
   "nbconvert_exporter": "python",
   "pygments_lexer": "ipython3",
   "version": "3.7.0"
  }
 },
 "nbformat": 4,
 "nbformat_minor": 2
}
